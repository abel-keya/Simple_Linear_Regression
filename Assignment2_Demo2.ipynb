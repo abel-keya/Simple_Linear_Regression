{
  "nbformat": 4,
  "nbformat_minor": 0,
  "metadata": {
    "colab": {
      "name": "Assignment2_Demo2.ipynb",
      "provenance": []
    },
    "kernelspec": {
      "name": "python3",
      "display_name": "Python 3"
    }
  },
  "cells": [
    {
      "cell_type": "code",
      "metadata": {
        "id": "VvCx6uwdHQxk",
        "colab_type": "code",
        "colab": {
          "base_uri": "https://localhost:8080/",
          "height": 132
        },
        "outputId": "4726b7a2-3d56-474b-d6d9-96e338f913a1"
      },
      "source": [
        "from google.colab import drive\n",
        "drive.mount('/content/drive')"
      ],
      "execution_count": 4,
      "outputs": [
        {
          "output_type": "stream",
          "text": [
            "Go to this URL in a browser: https://accounts.google.com/o/oauth2/auth?client_id=947318989803-6bn6qk8qdgf4n4g3pfee6491hc0brc4i.apps.googleusercontent.com&redirect_uri=urn%3aietf%3awg%3aoauth%3a2.0%3aoob&response_type=code&scope=email%20https%3a%2f%2fwww.googleapis.com%2fauth%2fdocs.test%20https%3a%2f%2fwww.googleapis.com%2fauth%2fdrive%20https%3a%2f%2fwww.googleapis.com%2fauth%2fdrive.photos.readonly%20https%3a%2f%2fwww.googleapis.com%2fauth%2fpeopleapi.readonly\n",
            "\n",
            "Enter your authorization code:\n",
            "··········\n",
            "Mounted at /content/drive\n"
          ],
          "name": "stdout"
        }
      ]
    },
    {
      "cell_type": "code",
      "metadata": {
        "id": "QIageRv7HYAu",
        "colab_type": "code",
        "colab": {
          "base_uri": "https://localhost:8080/",
          "height": 36
        },
        "outputId": "bdd96232-1bcc-4954-ddcc-ce784451df65"
      },
      "source": [
        "cd /content/drive/'My Drive'/sir_nasir_assignment/"
      ],
      "execution_count": 5,
      "outputs": [
        {
          "output_type": "stream",
          "text": [
            "/content/drive/My Drive/sir_nasir_assignment\n"
          ],
          "name": "stdout"
        }
      ]
    },
    {
      "cell_type": "code",
      "metadata": {
        "id": "abXZfa2bHE84",
        "colab_type": "code",
        "colab": {}
      },
      "source": [
        "import pandas as pd\n",
        "import numpy as np\n",
        "import matplotlib.pyplot as plt\n",
        "from sklearn.linear_model import LinearRegression\n",
        "from sklearn.metrics import r2_score\n",
        "import statsmodels.api as sm\n",
        "import warnings"
      ],
      "execution_count": 0,
      "outputs": []
    },
    {
      "cell_type": "code",
      "metadata": {
        "id": "RYLUYvmaHbbm",
        "colab_type": "code",
        "colab": {
          "base_uri": "https://localhost:8080/",
          "height": 36
        },
        "outputId": "3d4bc18d-b410-4e64-ec24-c20a0744e9d8"
      },
      "source": [
        "xls_file = pd.ExcelFile('Assignment2.xls')\n",
        "xls_file"
      ],
      "execution_count": 9,
      "outputs": [
        {
          "output_type": "execute_result",
          "data": {
            "text/plain": [
              "<pandas.io.excel._base.ExcelFile at 0x7f6450f6e438>"
            ]
          },
          "metadata": {
            "tags": []
          },
          "execution_count": 9
        }
      ]
    },
    {
      "cell_type": "code",
      "metadata": {
        "id": "mZbSMV_zHh9g",
        "colab_type": "code",
        "colab": {
          "base_uri": "https://localhost:8080/",
          "height": 36
        },
        "outputId": "9faa2f6f-a636-403b-9025-d3ed9181799b"
      },
      "source": [
        "# View the excel file's sheet names\n",
        "xls_file.sheet_names"
      ],
      "execution_count": 10,
      "outputs": [
        {
          "output_type": "execute_result",
          "data": {
            "text/plain": [
              "['edited data', 'edited data ', 'satisfaction ']"
            ]
          },
          "metadata": {
            "tags": []
          },
          "execution_count": 10
        }
      ]
    },
    {
      "cell_type": "code",
      "metadata": {
        "id": "ipD1daN8HkME",
        "colab_type": "code",
        "colab": {
          "base_uri": "https://localhost:8080/",
          "height": 419
        },
        "outputId": "7edec244-f623-40fa-8f19-6695d6833116"
      },
      "source": [
        "# Load the xls file's Sheet1 as a dataframe\n",
        "df2 = xls_file.parse('edited data ')\n",
        "df2"
      ],
      "execution_count": 11,
      "outputs": [
        {
          "output_type": "execute_result",
          "data": {
            "text/html": [
              "<div>\n",
              "<style scoped>\n",
              "    .dataframe tbody tr th:only-of-type {\n",
              "        vertical-align: middle;\n",
              "    }\n",
              "\n",
              "    .dataframe tbody tr th {\n",
              "        vertical-align: top;\n",
              "    }\n",
              "\n",
              "    .dataframe thead th {\n",
              "        text-align: right;\n",
              "    }\n",
              "</style>\n",
              "<table border=\"1\" class=\"dataframe\">\n",
              "  <thead>\n",
              "    <tr style=\"text-align: right;\">\n",
              "      <th></th>\n",
              "      <th>AGE</th>\n",
              "      <th>pre oxford score</th>\n",
              "      <th>post oxford score</th>\n",
              "      <th>score change</th>\n",
              "      <th>pre-op EQ5D</th>\n",
              "      <th>post-op EQ5D</th>\n",
              "      <th>EQ5D change</th>\n",
              "      <th>GENDER</th>\n",
              "      <th>post op satisfaction</th>\n",
              "    </tr>\n",
              "  </thead>\n",
              "  <tbody>\n",
              "    <tr>\n",
              "      <th>0</th>\n",
              "      <td>63</td>\n",
              "      <td>19</td>\n",
              "      <td>41</td>\n",
              "      <td>22</td>\n",
              "      <td>0.088</td>\n",
              "      <td>0.725</td>\n",
              "      <td>0.637</td>\n",
              "      <td>1</td>\n",
              "      <td>2</td>\n",
              "    </tr>\n",
              "    <tr>\n",
              "      <th>1</th>\n",
              "      <td>63</td>\n",
              "      <td>7</td>\n",
              "      <td>46</td>\n",
              "      <td>39</td>\n",
              "      <td>0.159</td>\n",
              "      <td>1.000</td>\n",
              "      <td>0.841</td>\n",
              "      <td>1</td>\n",
              "      <td>2</td>\n",
              "    </tr>\n",
              "    <tr>\n",
              "      <th>2</th>\n",
              "      <td>70</td>\n",
              "      <td>21</td>\n",
              "      <td>32</td>\n",
              "      <td>11</td>\n",
              "      <td>0.691</td>\n",
              "      <td>0.796</td>\n",
              "      <td>0.105</td>\n",
              "      <td>2</td>\n",
              "      <td>3</td>\n",
              "    </tr>\n",
              "    <tr>\n",
              "      <th>3</th>\n",
              "      <td>76</td>\n",
              "      <td>36</td>\n",
              "      <td>35</td>\n",
              "      <td>-1</td>\n",
              "      <td>0.691</td>\n",
              "      <td>0.691</td>\n",
              "      <td>0.000</td>\n",
              "      <td>1</td>\n",
              "      <td>3</td>\n",
              "    </tr>\n",
              "    <tr>\n",
              "      <th>4</th>\n",
              "      <td>72</td>\n",
              "      <td>31</td>\n",
              "      <td>19</td>\n",
              "      <td>-12</td>\n",
              "      <td>0.516</td>\n",
              "      <td>0.516</td>\n",
              "      <td>0.000</td>\n",
              "      <td>1</td>\n",
              "      <td>3</td>\n",
              "    </tr>\n",
              "    <tr>\n",
              "      <th>...</th>\n",
              "      <td>...</td>\n",
              "      <td>...</td>\n",
              "      <td>...</td>\n",
              "      <td>...</td>\n",
              "      <td>...</td>\n",
              "      <td>...</td>\n",
              "      <td>...</td>\n",
              "      <td>...</td>\n",
              "      <td>...</td>\n",
              "    </tr>\n",
              "    <tr>\n",
              "      <th>1669</th>\n",
              "      <td>68</td>\n",
              "      <td>10</td>\n",
              "      <td>22</td>\n",
              "      <td>12</td>\n",
              "      <td>0.620</td>\n",
              "      <td>0.760</td>\n",
              "      <td>0.140</td>\n",
              "      <td>2</td>\n",
              "      <td>3</td>\n",
              "    </tr>\n",
              "    <tr>\n",
              "      <th>1670</th>\n",
              "      <td>76</td>\n",
              "      <td>27</td>\n",
              "      <td>21</td>\n",
              "      <td>-6</td>\n",
              "      <td>0.516</td>\n",
              "      <td>0.516</td>\n",
              "      <td>0.000</td>\n",
              "      <td>1</td>\n",
              "      <td>4</td>\n",
              "    </tr>\n",
              "    <tr>\n",
              "      <th>1671</th>\n",
              "      <td>66</td>\n",
              "      <td>4</td>\n",
              "      <td>33</td>\n",
              "      <td>29</td>\n",
              "      <td>0.620</td>\n",
              "      <td>0.691</td>\n",
              "      <td>0.071</td>\n",
              "      <td>1</td>\n",
              "      <td>3</td>\n",
              "    </tr>\n",
              "    <tr>\n",
              "      <th>1672</th>\n",
              "      <td>73</td>\n",
              "      <td>18</td>\n",
              "      <td>42</td>\n",
              "      <td>24</td>\n",
              "      <td>0.587</td>\n",
              "      <td>0.620</td>\n",
              "      <td>0.033</td>\n",
              "      <td>2</td>\n",
              "      <td>4</td>\n",
              "    </tr>\n",
              "    <tr>\n",
              "      <th>1673</th>\n",
              "      <td>75</td>\n",
              "      <td>18</td>\n",
              "      <td>47</td>\n",
              "      <td>29</td>\n",
              "      <td>-0.016</td>\n",
              "      <td>0.883</td>\n",
              "      <td>0.899</td>\n",
              "      <td>2</td>\n",
              "      <td>2</td>\n",
              "    </tr>\n",
              "  </tbody>\n",
              "</table>\n",
              "<p>1674 rows × 9 columns</p>\n",
              "</div>"
            ],
            "text/plain": [
              "      AGE  pre oxford score   ...  GENDER  post op satisfaction\n",
              "0      63                 19  ...       1                     2\n",
              "1      63                  7  ...       1                     2\n",
              "2      70                 21  ...       2                     3\n",
              "3      76                 36  ...       1                     3\n",
              "4      72                 31  ...       1                     3\n",
              "...   ...                ...  ...     ...                   ...\n",
              "1669   68                 10  ...       2                     3\n",
              "1670   76                 27  ...       1                     4\n",
              "1671   66                  4  ...       1                     3\n",
              "1672   73                 18  ...       2                     4\n",
              "1673   75                 18  ...       2                     2\n",
              "\n",
              "[1674 rows x 9 columns]"
            ]
          },
          "metadata": {
            "tags": []
          },
          "execution_count": 11
        }
      ]
    },
    {
      "cell_type": "code",
      "metadata": {
        "id": "8ElfHYsFHkkq",
        "colab_type": "code",
        "colab": {}
      },
      "source": [
        "data1= df2[['AGE', 'score change ']]"
      ],
      "execution_count": 0,
      "outputs": []
    },
    {
      "cell_type": "code",
      "metadata": {
        "id": "FnARBtp_Hknm",
        "colab_type": "code",
        "colab": {
          "base_uri": "https://localhost:8080/",
          "height": 419
        },
        "outputId": "7dc4509b-e39e-4cf0-9de6-e93146469608"
      },
      "source": [
        "data1"
      ],
      "execution_count": 13,
      "outputs": [
        {
          "output_type": "execute_result",
          "data": {
            "text/html": [
              "<div>\n",
              "<style scoped>\n",
              "    .dataframe tbody tr th:only-of-type {\n",
              "        vertical-align: middle;\n",
              "    }\n",
              "\n",
              "    .dataframe tbody tr th {\n",
              "        vertical-align: top;\n",
              "    }\n",
              "\n",
              "    .dataframe thead th {\n",
              "        text-align: right;\n",
              "    }\n",
              "</style>\n",
              "<table border=\"1\" class=\"dataframe\">\n",
              "  <thead>\n",
              "    <tr style=\"text-align: right;\">\n",
              "      <th></th>\n",
              "      <th>AGE</th>\n",
              "      <th>score change</th>\n",
              "    </tr>\n",
              "  </thead>\n",
              "  <tbody>\n",
              "    <tr>\n",
              "      <th>0</th>\n",
              "      <td>63</td>\n",
              "      <td>22</td>\n",
              "    </tr>\n",
              "    <tr>\n",
              "      <th>1</th>\n",
              "      <td>63</td>\n",
              "      <td>39</td>\n",
              "    </tr>\n",
              "    <tr>\n",
              "      <th>2</th>\n",
              "      <td>70</td>\n",
              "      <td>11</td>\n",
              "    </tr>\n",
              "    <tr>\n",
              "      <th>3</th>\n",
              "      <td>76</td>\n",
              "      <td>-1</td>\n",
              "    </tr>\n",
              "    <tr>\n",
              "      <th>4</th>\n",
              "      <td>72</td>\n",
              "      <td>-12</td>\n",
              "    </tr>\n",
              "    <tr>\n",
              "      <th>...</th>\n",
              "      <td>...</td>\n",
              "      <td>...</td>\n",
              "    </tr>\n",
              "    <tr>\n",
              "      <th>1669</th>\n",
              "      <td>68</td>\n",
              "      <td>12</td>\n",
              "    </tr>\n",
              "    <tr>\n",
              "      <th>1670</th>\n",
              "      <td>76</td>\n",
              "      <td>-6</td>\n",
              "    </tr>\n",
              "    <tr>\n",
              "      <th>1671</th>\n",
              "      <td>66</td>\n",
              "      <td>29</td>\n",
              "    </tr>\n",
              "    <tr>\n",
              "      <th>1672</th>\n",
              "      <td>73</td>\n",
              "      <td>24</td>\n",
              "    </tr>\n",
              "    <tr>\n",
              "      <th>1673</th>\n",
              "      <td>75</td>\n",
              "      <td>29</td>\n",
              "    </tr>\n",
              "  </tbody>\n",
              "</table>\n",
              "<p>1674 rows × 2 columns</p>\n",
              "</div>"
            ],
            "text/plain": [
              "      AGE  score change \n",
              "0      63             22\n",
              "1      63             39\n",
              "2      70             11\n",
              "3      76             -1\n",
              "4      72            -12\n",
              "...   ...            ...\n",
              "1669   68             12\n",
              "1670   76             -6\n",
              "1671   66             29\n",
              "1672   73             24\n",
              "1673   75             29\n",
              "\n",
              "[1674 rows x 2 columns]"
            ]
          },
          "metadata": {
            "tags": []
          },
          "execution_count": 13
        }
      ]
    },
    {
      "cell_type": "code",
      "metadata": {
        "id": "Zj4ZL_aXHkqy",
        "colab_type": "code",
        "colab": {}
      },
      "source": [
        "x = data1['AGE']\n",
        "y = data1['score change ']"
      ],
      "execution_count": 0,
      "outputs": []
    },
    {
      "cell_type": "code",
      "metadata": {
        "id": "fk260bQOHIUM",
        "colab_type": "code",
        "colab": {
          "base_uri": "https://localhost:8080/",
          "height": 497
        },
        "outputId": "797eb562-7fb7-48c7-b61e-c764abcfa5e6"
      },
      "source": [
        "plt.figure(figsize=(16, 8))\n",
        "plt.scatter(\n",
        "    data1['AGE'],\n",
        "    data1['score change '],\n",
        "    c='black'\n",
        ")\n",
        "plt.xlabel(\"AGE\")\n",
        "plt.ylabel(\"OXFORD SCORE CHANGE\")\n",
        "plt.show()"
      ],
      "execution_count": 15,
      "outputs": [
        {
          "output_type": "display_data",
          "data": {
            "image/png": "[encoded data removed]",
            "text/plain": [
              "<Figure size 1152x576 with 1 Axes>"
            ]
          },
          "metadata": {
            "tags": []
          }
        }
      ]
    },
    {
      "cell_type": "code",
      "metadata": {
        "id": "-MGcm2QfHKl7",
        "colab_type": "code",
        "colab": {
          "base_uri": "https://localhost:8080/",
          "height": 36
        },
        "outputId": "90bed08b-cbdd-46b0-b7d3-f79f03570440"
      },
      "source": [
        "X = data1['AGE'].values.reshape(-1,1)\n",
        "y = data1['score change '].values.reshape(-1,1)\n",
        "reg = LinearRegression()\n",
        "reg.fit(X, y)\n",
        "print(\"The linear model is: Y = {:.5} + {:.5}X\".format(reg.intercept_[0], reg.coef_[0][0]))"
      ],
      "execution_count": 16,
      "outputs": [
        {
          "output_type": "stream",
          "text": [
            "The linear model is: Y = 17.411 + 0.0079524X\n"
          ],
          "name": "stdout"
        }
      ]
    },
    {
      "cell_type": "code",
      "metadata": {
        "id": "CywRk8lnHMsZ",
        "colab_type": "code",
        "colab": {
          "base_uri": "https://localhost:8080/",
          "height": 497
        },
        "outputId": "08e22960-fb31-42a0-f3fb-92eacb951f07"
      },
      "source": [
        "predictions = reg.predict(X)\n",
        "plt.figure(figsize=(16, 8))\n",
        "plt.scatter(\n",
        "    data1['AGE'],\n",
        "    data1['score change '],\n",
        "    c='black'\n",
        ")\n",
        "plt.plot(\n",
        "    data1['AGE'],\n",
        "    predictions,\n",
        "    c='blue',\n",
        "    linewidth=2\n",
        ")\n",
        "plt.xlabel(\"AGE\")\n",
        "plt.ylabel(\"OXFORD SCORE CHANGE\")\n",
        "plt.show()"
      ],
      "execution_count": 17,
      "outputs": [
        {
          "output_type": "display_data",
          "data": {
            "image/png": "[encoded data removed]",
            "text/plain": [
              "<Figure size 1152x576 with 1 Axes>"
            ]
          },
          "metadata": {
            "tags": []
          }
        }
      ]
    },
    {
      "cell_type": "code",
      "metadata": {
        "id": "k5aW-01UHyok",
        "colab_type": "code",
        "colab": {
          "base_uri": "https://localhost:8080/",
          "height": 492
        },
        "outputId": "719d0c69-d667-48ad-b216-04485f0bcd83"
      },
      "source": [
        "warnings.simplefilter(action='ignore', category=FutureWarning)\n",
        "X = data1['AGE']\n",
        "y = data1['score change ']\n",
        "X2 = sm.add_constant(X)\n",
        "est = sm.OLS(y, X2)\n",
        "est2 = est.fit()\n",
        "print(est2.summary())"
      ],
      "execution_count": 18,
      "outputs": [
        {
          "output_type": "stream",
          "text": [
            "                            OLS Regression Results                            \n",
            "==============================================================================\n",
            "Dep. Variable:          score change    R-squared:                       0.000\n",
            "Model:                            OLS   Adj. R-squared:                 -0.001\n",
            "Method:                 Least Squares   F-statistic:                   0.08348\n",
            "Date:                Sat, 25 Jan 2020   Prob (F-statistic):              0.773\n",
            "Time:                        00:34:44   Log-Likelihood:                -6210.4\n",
            "No. Observations:                1674   AIC:                         1.242e+04\n",
            "Df Residuals:                    1672   BIC:                         1.244e+04\n",
            "Df Model:                           1                                         \n",
            "Covariance Type:            nonrobust                                         \n",
            "==============================================================================\n",
            "                 coef    std err          t      P>|t|      [0.025      0.975]\n",
            "------------------------------------------------------------------------------\n",
            "const         17.4111      1.905      9.140      0.000      13.675      21.147\n",
            "AGE            0.0080      0.028      0.289      0.773      -0.046       0.062\n",
            "==============================================================================\n",
            "Omnibus:                       38.721   Durbin-Watson:                   1.990\n",
            "Prob(Omnibus):                  0.000   Jarque-Bera (JB):               37.697\n",
            "Skew:                          -0.333   Prob(JB):                     6.52e-09\n",
            "Kurtosis:                       2.689   Cond. No.                         546.\n",
            "==============================================================================\n",
            "\n",
            "Warnings:\n",
            "[1] Standard Errors assume that the covariance matrix of the errors is correctly specified.\n"
          ],
          "name": "stdout"
        }
      ]
    },
    {
      "cell_type": "code",
      "metadata": {
        "id": "i53VZSUKH1Te",
        "colab_type": "code",
        "colab": {}
      },
      "source": [
        ""
      ],
      "execution_count": 0,
      "outputs": []
    }
  ]
}