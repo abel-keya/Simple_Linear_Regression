{
  "nbformat": 4,
  "nbformat_minor": 0,
  "metadata": {
    "colab": {
      "name": "Assignment2_demo1",
      "provenance": [],
      "collapsed_sections": []
    },
    "kernelspec": {
      "name": "python3",
      "display_name": "Python 3"
    }
  },
  "cells": [
    {
      "cell_type": "code",
      "metadata": {
        "id": "5z_3rAo5aY6D",
        "colab_type": "code",
        "outputId": "98715201-0941-470a-eac7-3bbe51f2c7e3",
        "colab": {
          "base_uri": "https://localhost:8080/",
          "height": 36
        }
      },
      "source": [
        "from google.colab import drive\n",
        "drive.mount('/content/drive')"
      ],
      "execution_count": 0,
      "outputs": [
        {
          "output_type": "stream",
          "text": [
            "Drive already mounted at /content/drive; to attempt to forcibly remount, call drive.mount(\"/content/drive\", force_remount=True).\n"
          ],
          "name": "stdout"
        }
      ]
    },
    {
      "cell_type": "code",
      "metadata": {
        "id": "clpOt_C_bYEf",
        "colab_type": "code",
        "outputId": "6fe521d7-914c-4a51-ed02-9138dc2f5fef",
        "colab": {
          "base_uri": "https://localhost:8080/",
          "height": 36
        }
      },
      "source": [
        "cd /content/drive/'My Drive'/sir_nasir_assignment/"
      ],
      "execution_count": 0,
      "outputs": [
        {
          "output_type": "stream",
          "text": [
            "/content/drive/My Drive/sir_nasir_assignment\n"
          ],
          "name": "stdout"
        }
      ]
    },
    {
      "cell_type": "code",
      "metadata": {
        "id": "qB97-Q2EcqUe",
        "colab_type": "code",
        "colab": {}
      },
      "source": [
        ""
      ],
      "execution_count": 0,
      "outputs": []
    },
    {
      "cell_type": "markdown",
      "metadata": {
        "id": "JCPrS-tTeJJX",
        "colab_type": "text"
      },
      "source": [
        "# Imports"
      ]
    },
    {
      "cell_type": "code",
      "metadata": {
        "id": "xoxtkcaFeMfj",
        "colab_type": "code",
        "colab": {}
      },
      "source": [
        "!pip install tensorflow==2.0.0"
      ],
      "execution_count": 0,
      "outputs": []
    },
    {
      "cell_type": "code",
      "metadata": {
        "id": "qkOFtHRhcPss",
        "colab_type": "code",
        "colab": {}
      },
      "source": [
        "# Imports\n",
        "import matplotlib.pyplot as plt\n",
        "#-----------------------------------\n",
        "import pandas as pd\n",
        "from pandas import read_csv\n",
        "#-----------------------------------\n",
        "import numpy as np\n",
        "#-----------------------------------\n",
        "import tensorflow \n",
        "from tensorflow.keras import layers\n",
        "from tensorflow.keras import models\n",
        "from tensorflow.keras import optimizers\n",
        "from tensorflow.keras import backend\n",
        "from tensorflow.keras.utils import to_categorical\n",
        "from tensorflow.keras import losses\n",
        "from tensorflow.keras import metrics\n",
        "from tensorflow.keras.models import Sequential\n",
        "from tensorflow.keras.layers import Dense\n",
        "from tensorflow.keras.layers import Dropout\n",
        "from tensorflow.keras.wrappers.scikit_learn import KerasClassifier\n",
        "from tensorflow.keras.constraints import max_norm \n",
        "from tensorflow.keras.optimizers import SGD\n",
        "#-------------------------------------\n",
        "from sklearn import preprocessing as pp\n",
        "from sklearn.utils import shuffle\n",
        "from sklearn.model_selection import cross_val_score\n",
        "from sklearn.preprocessing import LabelEncoder\n",
        "from sklearn.model_selection import StratifiedKFold\n",
        "from sklearn.preprocessing import StandardScaler\n",
        "from sklearn.pipeline import Pipeline"
      ],
      "execution_count": 0,
      "outputs": []
    },
    {
      "cell_type": "code",
      "metadata": {
        "id": "lcWHgHSQk_0N",
        "colab_type": "code",
        "colab": {}
      },
      "source": [
        "import pandas as pd\n",
        "import numpy as np\n",
        "import matplotlib.pyplot as plt \n",
        "import seaborn as sns \n",
        "import statsmodels.api as sm\n",
        "from sklearn.preprocessing import PolynomialFeatures\n",
        "from sklearn.linear_model import LinearRegression\n",
        "from sklearn.model_selection import train_test_split\n",
        "%matplotlib inline"
      ],
      "execution_count": 0,
      "outputs": []
    },
    {
      "cell_type": "markdown",
      "metadata": {
        "id": "HlSLd0NVeV_N",
        "colab_type": "text"
      },
      "source": [
        "# Others"
      ]
    },
    {
      "cell_type": "code",
      "metadata": {
        "id": "x6NkKedleIII",
        "colab_type": "code",
        "colab": {}
      },
      "source": [
        "# fix random seed for reproducibility\n",
        "seed = 7\n",
        "np.random.seed(seed)"
      ],
      "execution_count": 0,
      "outputs": []
    },
    {
      "cell_type": "code",
      "metadata": {
        "id": "7nn220PzfdRk",
        "colab_type": "code",
        "outputId": "77fbdccf-aacd-411a-87ea-828b500dfbca",
        "colab": {
          "base_uri": "https://localhost:8080/",
          "height": 74
        }
      },
      "source": [
        "ls"
      ],
      "execution_count": 0,
      "outputs": [
        {
          "output_type": "stream",
          "text": [
            " Assignement2.ipynb   Assignment2desc   data.xls          Untitled0.ipynb\n",
            " Assignement.ipynb    Assignment2.xls   first.py\n",
            " Assignment2          data.csv         'Tasks ENG.gdoc'\n"
          ],
          "name": "stdout"
        }
      ]
    },
    {
      "cell_type": "code",
      "metadata": {
        "id": "XulUaljReUZb",
        "colab_type": "code",
        "outputId": "f50911ad-6af2-4f57-ebe3-61dc541993fb",
        "colab": {
          "base_uri": "https://localhost:8080/",
          "height": 36
        }
      },
      "source": [
        "xls_file = pd.ExcelFile('Assignment2.xls')\n",
        "xls_file"
      ],
      "execution_count": 0,
      "outputs": [
        {
          "output_type": "execute_result",
          "data": {
            "text/plain": [
              "<pandas.io.excel._base.ExcelFile at 0x7f550d057c50>"
            ]
          },
          "metadata": {
            "tags": []
          },
          "execution_count": 24
        }
      ]
    },
    {
      "cell_type": "code",
      "metadata": {
        "id": "VByXKbKxgBXd",
        "colab_type": "code",
        "outputId": "4b86b731-dc94-4828-eb7d-e3c4be297657",
        "colab": {
          "base_uri": "https://localhost:8080/",
          "height": 36
        }
      },
      "source": [
        "# View the excel file's sheet names\n",
        "xls_file.sheet_names"
      ],
      "execution_count": 0,
      "outputs": [
        {
          "output_type": "execute_result",
          "data": {
            "text/plain": [
              "['edited data', 'edited data ', 'satisfaction ']"
            ]
          },
          "metadata": {
            "tags": []
          },
          "execution_count": 25
        }
      ]
    },
    {
      "cell_type": "code",
      "metadata": {
        "id": "_cK4CLsIf_Dp",
        "colab_type": "code",
        "outputId": "bbf712b5-9702-4d2f-b3fa-ed2a89523e91",
        "colab": {
          "base_uri": "https://localhost:8080/",
          "height": 419
        }
      },
      "source": [
        "# Load the xls file's Sheet1 as a dataframe\n",
        "df2 = xls_file.parse('edited data ')\n",
        "df2"
      ],
      "execution_count": 0,
      "outputs": [
        {
          "output_type": "execute_result",
          "data": {
            "text/html": [
              "<div>\n",
              "<style scoped>\n",
              "    .dataframe tbody tr th:only-of-type {\n",
              "        vertical-align: middle;\n",
              "    }\n",
              "\n",
              "    .dataframe tbody tr th {\n",
              "        vertical-align: top;\n",
              "    }\n",
              "\n",
              "    .dataframe thead th {\n",
              "        text-align: right;\n",
              "    }\n",
              "</style>\n",
              "<table border=\"1\" class=\"dataframe\">\n",
              "  <thead>\n",
              "    <tr style=\"text-align: right;\">\n",
              "      <th></th>\n",
              "      <th>AGE</th>\n",
              "      <th>pre oxford score</th>\n",
              "      <th>post oxford score</th>\n",
              "      <th>score change</th>\n",
              "      <th>pre-op EQ5D</th>\n",
              "      <th>post-op EQ5D</th>\n",
              "      <th>EQ5D change</th>\n",
              "      <th>GENDER</th>\n",
              "      <th>post op satisfaction</th>\n",
              "    </tr>\n",
              "  </thead>\n",
              "  <tbody>\n",
              "    <tr>\n",
              "      <th>0</th>\n",
              "      <td>63</td>\n",
              "      <td>19</td>\n",
              "      <td>41</td>\n",
              "      <td>22</td>\n",
              "      <td>0.088</td>\n",
              "      <td>0.725</td>\n",
              "      <td>0.637</td>\n",
              "      <td>1</td>\n",
              "      <td>2</td>\n",
              "    </tr>\n",
              "    <tr>\n",
              "      <th>1</th>\n",
              "      <td>63</td>\n",
              "      <td>7</td>\n",
              "      <td>46</td>\n",
              "      <td>39</td>\n",
              "      <td>0.159</td>\n",
              "      <td>1.000</td>\n",
              "      <td>0.841</td>\n",
              "      <td>1</td>\n",
              "      <td>2</td>\n",
              "    </tr>\n",
              "    <tr>\n",
              "      <th>2</th>\n",
              "      <td>70</td>\n",
              "      <td>21</td>\n",
              "      <td>32</td>\n",
              "      <td>11</td>\n",
              "      <td>0.691</td>\n",
              "      <td>0.796</td>\n",
              "      <td>0.105</td>\n",
              "      <td>2</td>\n",
              "      <td>3</td>\n",
              "    </tr>\n",
              "    <tr>\n",
              "      <th>3</th>\n",
              "      <td>76</td>\n",
              "      <td>36</td>\n",
              "      <td>35</td>\n",
              "      <td>-1</td>\n",
              "      <td>0.691</td>\n",
              "      <td>0.691</td>\n",
              "      <td>0.000</td>\n",
              "      <td>1</td>\n",
              "      <td>3</td>\n",
              "    </tr>\n",
              "    <tr>\n",
              "      <th>4</th>\n",
              "      <td>72</td>\n",
              "      <td>31</td>\n",
              "      <td>19</td>\n",
              "      <td>-12</td>\n",
              "      <td>0.516</td>\n",
              "      <td>0.516</td>\n",
              "      <td>0.000</td>\n",
              "      <td>1</td>\n",
              "      <td>3</td>\n",
              "    </tr>\n",
              "    <tr>\n",
              "      <th>...</th>\n",
              "      <td>...</td>\n",
              "      <td>...</td>\n",
              "      <td>...</td>\n",
              "      <td>...</td>\n",
              "      <td>...</td>\n",
              "      <td>...</td>\n",
              "      <td>...</td>\n",
              "      <td>...</td>\n",
              "      <td>...</td>\n",
              "    </tr>\n",
              "    <tr>\n",
              "      <th>1669</th>\n",
              "      <td>68</td>\n",
              "      <td>10</td>\n",
              "      <td>22</td>\n",
              "      <td>12</td>\n",
              "      <td>0.620</td>\n",
              "      <td>0.760</td>\n",
              "      <td>0.140</td>\n",
              "      <td>2</td>\n",
              "      <td>3</td>\n",
              "    </tr>\n",
              "    <tr>\n",
              "      <th>1670</th>\n",
              "      <td>76</td>\n",
              "      <td>27</td>\n",
              "      <td>21</td>\n",
              "      <td>-6</td>\n",
              "      <td>0.516</td>\n",
              "      <td>0.516</td>\n",
              "      <td>0.000</td>\n",
              "      <td>1</td>\n",
              "      <td>4</td>\n",
              "    </tr>\n",
              "    <tr>\n",
              "      <th>1671</th>\n",
              "      <td>66</td>\n",
              "      <td>4</td>\n",
              "      <td>33</td>\n",
              "      <td>29</td>\n",
              "      <td>0.620</td>\n",
              "      <td>0.691</td>\n",
              "      <td>0.071</td>\n",
              "      <td>1</td>\n",
              "      <td>3</td>\n",
              "    </tr>\n",
              "    <tr>\n",
              "      <th>1672</th>\n",
              "      <td>73</td>\n",
              "      <td>18</td>\n",
              "      <td>42</td>\n",
              "      <td>24</td>\n",
              "      <td>0.587</td>\n",
              "      <td>0.620</td>\n",
              "      <td>0.033</td>\n",
              "      <td>2</td>\n",
              "      <td>4</td>\n",
              "    </tr>\n",
              "    <tr>\n",
              "      <th>1673</th>\n",
              "      <td>75</td>\n",
              "      <td>18</td>\n",
              "      <td>47</td>\n",
              "      <td>29</td>\n",
              "      <td>-0.016</td>\n",
              "      <td>0.883</td>\n",
              "      <td>0.899</td>\n",
              "      <td>2</td>\n",
              "      <td>2</td>\n",
              "    </tr>\n",
              "  </tbody>\n",
              "</table>\n",
              "<p>1674 rows × 9 columns</p>\n",
              "</div>"
            ],
            "text/plain": [
              "      AGE  pre oxford score   ...  GENDER  post op satisfaction\n",
              "0      63                 19  ...       1                     2\n",
              "1      63                  7  ...       1                     2\n",
              "2      70                 21  ...       2                     3\n",
              "3      76                 36  ...       1                     3\n",
              "4      72                 31  ...       1                     3\n",
              "...   ...                ...  ...     ...                   ...\n",
              "1669   68                 10  ...       2                     3\n",
              "1670   76                 27  ...       1                     4\n",
              "1671   66                  4  ...       1                     3\n",
              "1672   73                 18  ...       2                     4\n",
              "1673   75                 18  ...       2                     2\n",
              "\n",
              "[1674 rows x 9 columns]"
            ]
          },
          "metadata": {
            "tags": []
          },
          "execution_count": 29
        }
      ]
    },
    {
      "cell_type": "code",
      "metadata": {
        "id": "tj3-vDiY3bEU",
        "colab_type": "code",
        "colab": {
          "base_uri": "https://localhost:8080/",
          "height": 93
        },
        "outputId": "393b5e9f-2320-4053-cb05-c5b8a96d410c"
      },
      "source": [
        "df2.columns"
      ],
      "execution_count": 88,
      "outputs": [
        {
          "output_type": "execute_result",
          "data": {
            "text/plain": [
              "Index(['AGE', 'pre oxford score ', 'post oxford score ', 'score change ',\n",
              "       'pre-op EQ5D', 'post-op EQ5D', 'EQ5D change', 'GENDER',\n",
              "       'post op satisfaction'],\n",
              "      dtype='object')"
            ]
          },
          "metadata": {
            "tags": []
          },
          "execution_count": 88
        }
      ]
    },
    {
      "cell_type": "code",
      "metadata": {
        "id": "lecNoivViTu_",
        "colab_type": "code",
        "outputId": "9e5a6d15-6847-472f-b025-99fdb42ad6fc",
        "colab": {
          "base_uri": "https://localhost:8080/",
          "height": 419
        }
      },
      "source": [
        "# Load the xls file's Sheet1 as a dataframe\n",
        "df3 = xls_file.parse('satisfaction ')\n",
        "df3"
      ],
      "execution_count": 0,
      "outputs": [
        {
          "output_type": "execute_result",
          "data": {
            "text/html": [
              "<div>\n",
              "<style scoped>\n",
              "    .dataframe tbody tr th:only-of-type {\n",
              "        vertical-align: middle;\n",
              "    }\n",
              "\n",
              "    .dataframe tbody tr th {\n",
              "        vertical-align: top;\n",
              "    }\n",
              "\n",
              "    .dataframe thead th {\n",
              "        text-align: right;\n",
              "    }\n",
              "</style>\n",
              "<table border=\"1\" class=\"dataframe\">\n",
              "  <thead>\n",
              "    <tr style=\"text-align: right;\">\n",
              "      <th></th>\n",
              "      <th>AGE</th>\n",
              "      <th>GENDER</th>\n",
              "      <th>post op satisfaction</th>\n",
              "    </tr>\n",
              "  </thead>\n",
              "  <tbody>\n",
              "    <tr>\n",
              "      <th>0</th>\n",
              "      <td>63</td>\n",
              "      <td>1</td>\n",
              "      <td>2</td>\n",
              "    </tr>\n",
              "    <tr>\n",
              "      <th>1</th>\n",
              "      <td>63</td>\n",
              "      <td>1</td>\n",
              "      <td>2</td>\n",
              "    </tr>\n",
              "    <tr>\n",
              "      <th>2</th>\n",
              "      <td>70</td>\n",
              "      <td>2</td>\n",
              "      <td>3</td>\n",
              "    </tr>\n",
              "    <tr>\n",
              "      <th>3</th>\n",
              "      <td>76</td>\n",
              "      <td>1</td>\n",
              "      <td>3</td>\n",
              "    </tr>\n",
              "    <tr>\n",
              "      <th>4</th>\n",
              "      <td>72</td>\n",
              "      <td>1</td>\n",
              "      <td>3</td>\n",
              "    </tr>\n",
              "    <tr>\n",
              "      <th>...</th>\n",
              "      <td>...</td>\n",
              "      <td>...</td>\n",
              "      <td>...</td>\n",
              "    </tr>\n",
              "    <tr>\n",
              "      <th>1656</th>\n",
              "      <td>68</td>\n",
              "      <td>2</td>\n",
              "      <td>3</td>\n",
              "    </tr>\n",
              "    <tr>\n",
              "      <th>1657</th>\n",
              "      <td>76</td>\n",
              "      <td>1</td>\n",
              "      <td>4</td>\n",
              "    </tr>\n",
              "    <tr>\n",
              "      <th>1658</th>\n",
              "      <td>66</td>\n",
              "      <td>1</td>\n",
              "      <td>3</td>\n",
              "    </tr>\n",
              "    <tr>\n",
              "      <th>1659</th>\n",
              "      <td>73</td>\n",
              "      <td>2</td>\n",
              "      <td>4</td>\n",
              "    </tr>\n",
              "    <tr>\n",
              "      <th>1660</th>\n",
              "      <td>75</td>\n",
              "      <td>2</td>\n",
              "      <td>2</td>\n",
              "    </tr>\n",
              "  </tbody>\n",
              "</table>\n",
              "<p>1661 rows × 3 columns</p>\n",
              "</div>"
            ],
            "text/plain": [
              "      AGE  GENDER  post op satisfaction\n",
              "0      63       1                     2\n",
              "1      63       1                     2\n",
              "2      70       2                     3\n",
              "3      76       1                     3\n",
              "4      72       1                     3\n",
              "...   ...     ...                   ...\n",
              "1656   68       2                     3\n",
              "1657   76       1                     4\n",
              "1658   66       1                     3\n",
              "1659   73       2                     4\n",
              "1660   75       2                     2\n",
              "\n",
              "[1661 rows x 3 columns]"
            ]
          },
          "metadata": {
            "tags": []
          },
          "execution_count": 31
        }
      ]
    },
    {
      "cell_type": "code",
      "metadata": {
        "id": "TWiIdL64iiHw",
        "colab_type": "code",
        "colab": {}
      },
      "source": [
        "data1= df2[['AGE', 'score change ']]\n"
      ],
      "execution_count": 0,
      "outputs": []
    },
    {
      "cell_type": "code",
      "metadata": {
        "id": "gQkeM6uf5Mem",
        "colab_type": "code",
        "colab": {
          "base_uri": "https://localhost:8080/",
          "height": 419
        },
        "outputId": "e1a7de09-e933-4914-84e3-520435a39314"
      },
      "source": [
        "data1"
      ],
      "execution_count": 117,
      "outputs": [
        {
          "output_type": "execute_result",
          "data": {
            "text/html": [
              "<div>\n",
              "<style scoped>\n",
              "    .dataframe tbody tr th:only-of-type {\n",
              "        vertical-align: middle;\n",
              "    }\n",
              "\n",
              "    .dataframe tbody tr th {\n",
              "        vertical-align: top;\n",
              "    }\n",
              "\n",
              "    .dataframe thead th {\n",
              "        text-align: right;\n",
              "    }\n",
              "</style>\n",
              "<table border=\"1\" class=\"dataframe\">\n",
              "  <thead>\n",
              "    <tr style=\"text-align: right;\">\n",
              "      <th></th>\n",
              "      <th>AGE</th>\n",
              "      <th>score change</th>\n",
              "    </tr>\n",
              "  </thead>\n",
              "  <tbody>\n",
              "    <tr>\n",
              "      <th>0</th>\n",
              "      <td>63</td>\n",
              "      <td>22</td>\n",
              "    </tr>\n",
              "    <tr>\n",
              "      <th>1</th>\n",
              "      <td>63</td>\n",
              "      <td>39</td>\n",
              "    </tr>\n",
              "    <tr>\n",
              "      <th>2</th>\n",
              "      <td>70</td>\n",
              "      <td>11</td>\n",
              "    </tr>\n",
              "    <tr>\n",
              "      <th>3</th>\n",
              "      <td>76</td>\n",
              "      <td>-1</td>\n",
              "    </tr>\n",
              "    <tr>\n",
              "      <th>4</th>\n",
              "      <td>72</td>\n",
              "      <td>-12</td>\n",
              "    </tr>\n",
              "    <tr>\n",
              "      <th>...</th>\n",
              "      <td>...</td>\n",
              "      <td>...</td>\n",
              "    </tr>\n",
              "    <tr>\n",
              "      <th>1669</th>\n",
              "      <td>68</td>\n",
              "      <td>12</td>\n",
              "    </tr>\n",
              "    <tr>\n",
              "      <th>1670</th>\n",
              "      <td>76</td>\n",
              "      <td>-6</td>\n",
              "    </tr>\n",
              "    <tr>\n",
              "      <th>1671</th>\n",
              "      <td>66</td>\n",
              "      <td>29</td>\n",
              "    </tr>\n",
              "    <tr>\n",
              "      <th>1672</th>\n",
              "      <td>73</td>\n",
              "      <td>24</td>\n",
              "    </tr>\n",
              "    <tr>\n",
              "      <th>1673</th>\n",
              "      <td>75</td>\n",
              "      <td>29</td>\n",
              "    </tr>\n",
              "  </tbody>\n",
              "</table>\n",
              "<p>1674 rows × 2 columns</p>\n",
              "</div>"
            ],
            "text/plain": [
              "      AGE  score change \n",
              "0      63             22\n",
              "1      63             39\n",
              "2      70             11\n",
              "3      76             -1\n",
              "4      72            -12\n",
              "...   ...            ...\n",
              "1669   68             12\n",
              "1670   76             -6\n",
              "1671   66             29\n",
              "1672   73             24\n",
              "1673   75             29\n",
              "\n",
              "[1674 rows x 2 columns]"
            ]
          },
          "metadata": {
            "tags": []
          },
          "execution_count": 117
        }
      ]
    },
    {
      "cell_type": "code",
      "metadata": {
        "id": "J6nMlpGv_Nn9",
        "colab_type": "code",
        "colab": {}
      },
      "source": [
        "x = data1['AGE']\n",
        "y = data1['score change ']"
      ],
      "execution_count": 0,
      "outputs": []
    },
    {
      "cell_type": "code",
      "metadata": {
        "id": "-kQz0g6Z3kHE",
        "colab_type": "code",
        "colab": {
          "base_uri": "https://localhost:8080/",
          "height": 336
        },
        "outputId": "95d81926-4f17-44f8-dc23-893477c38373"
      },
      "source": [
        "# feature(x) is AGE\n",
        "# response(y) is oxford_score_change\n",
        "# b_0 and b_1 are regression coefficients and represent y-intercept and slope of regression line respectively.\n",
        "\n",
        "import numpy as np \n",
        "import matplotlib.pyplot as plt \n",
        "\n",
        "def estimate_coef(x, y): \n",
        "\t# number of observations/points \n",
        "\tn = np.size(x) \n",
        "\n",
        "\t# mean of x and y vector \n",
        "\tm_x, m_y = np.mean(x), np.mean(y) \n",
        "\n",
        "\t# calculating cross-deviation and deviation about x \n",
        "\tSS_xy = np.sum(y*x) - n*m_y*m_x \n",
        "\tSS_xx = np.sum(x*x) - n*m_x*m_x \n",
        "\n",
        "\t# calculating regression coefficients \n",
        "\tb_1 = SS_xy / SS_xx \n",
        "\tb_0 = m_y - b_1*m_x \n",
        "\n",
        "\treturn(b_0, b_1) \n",
        "\n",
        "def plot_regression_line(x, y, b): \n",
        "\t# plotting the actual points as scatter plot \n",
        "\tplt.scatter(x, y, color = \"m\", \n",
        "\t\t\tmarker = \"o\", s = 30) \n",
        "\n",
        "\t# predicted response vector \n",
        "\ty_pred = b[0] + b[1]*x \n",
        "\n",
        "\t# plotting the regression line \n",
        "\tplt.plot(x, y_pred, color = \"g\") \n",
        "\n",
        "\t# putting labels \n",
        "\tplt.xlabel('x') \n",
        "\tplt.ylabel('y') \n",
        "\n",
        "\t# function to show plot \n",
        "\tplt.show() \n",
        "\n",
        "def main(): \n",
        "\t# observations \n",
        "\tx = np.array(data1['AGE']) \n",
        "\ty = np.array(data1['score change ']) \n",
        "\n",
        "\t# estimating coefficients \n",
        "\tb = estimate_coef(x, y) \n",
        "\tprint(\"Estimated coefficients:\\nb_0 = {} \\nb_1 = {}\".format(b[0], b[1])) \n",
        "\n",
        "\t# plotting regression line \n",
        "\tplot_regression_line(x, y, b) \n",
        "\n",
        "if __name__ == \"__main__\": \n",
        "\tmain() \n"
      ],
      "execution_count": 129,
      "outputs": [
        {
          "output_type": "stream",
          "text": [
            "Estimated coefficients:\n",
            "b_0 = 17.41105035779754 \n",
            "b_1 = 0.00795243429005073\n"
          ],
          "name": "stdout"
        },
        {
          "output_type": "display_data",
          "data": {
            "image/png": "[encoded data removed]",
            "text/plain": [
              "<Figure size 432x288 with 1 Axes>"
            ]
          },
          "metadata": {
            "tags": []
          }
        }
      ]
    }
  ]
}